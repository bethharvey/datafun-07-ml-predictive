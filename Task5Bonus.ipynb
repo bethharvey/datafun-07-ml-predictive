{
 "cells": [
  {
   "cell_type": "markdown",
   "id": "6d26e32b-3ad0-4183-9ceb-a5a3c82e9450",
   "metadata": {},
   "source": [
    "# Beth Harvey\n",
    "## Data Analytics Fundamentals Project 7\n",
    "## February 24, 2023"
   ]
  },
  {
   "attachments": {},
   "cell_type": "markdown",
   "id": "46e0d532-d802-465e-8165-2a7eea8c6b3d",
   "metadata": {},
   "source": [
    "Objective: Perform multiple linear regression on sklearn's California Housing dataset."
   ]
  },
  {
   "cell_type": "markdown",
   "id": "02375ea8-ce77-475e-ae40-d54bef13c03e",
   "metadata": {},
   "source": [
    "### Load and View the Data"
   ]
  },
  {
   "cell_type": "code",
   "execution_count": null,
   "id": "78c7dcdb-e8b2-4c59-b9c8-26605500a37e",
   "metadata": {},
   "outputs": [
    {
     "ename": "",
     "evalue": "",
     "output_type": "error",
     "traceback": [
      "\u001b[1;31mRunning cells with '/usr/bin/python3' requires the ipykernel package.\n",
      "\u001b[1;31mRun the following command to install 'ipykernel' into the Python environment. \n",
      "\u001b[1;31mCommand: '/usr/bin/python3 -m pip install ipykernel -U --user --force-reinstall'"
     ]
    }
   ],
   "source": [
    "# Import dataset function\n",
    "from sklearn.datasets import fetch_california_housing"
   ]
  },
  {
   "cell_type": "code",
   "execution_count": null,
   "id": "0ad0b07c-1c6e-4be3-9a10-273bccbf940c",
   "metadata": {},
   "outputs": [
    {
     "ename": "",
     "evalue": "",
     "output_type": "error",
     "traceback": [
      "\u001b[1;31mRunning cells with '/usr/bin/python3' requires the ipykernel package.\n",
      "\u001b[1;31mRun the following command to install 'ipykernel' into the Python environment. \n",
      "\u001b[1;31mCommand: '/usr/bin/python3 -m pip install ipykernel -U --user --force-reinstall'"
     ]
    }
   ],
   "source": [
    "# Assign dataset as a variable\n",
    "california = fetch_california_housing()"
   ]
  },
  {
   "cell_type": "code",
   "execution_count": null,
   "id": "58e96c0a-9469-43c2-833e-1ca3af7f282e",
   "metadata": {},
   "outputs": [
    {
     "ename": "",
     "evalue": "",
     "output_type": "error",
     "traceback": [
      "\u001b[1;31mRunning cells with '/usr/bin/python3' requires the ipykernel package.\n",
      "\u001b[1;31mRun the following command to install 'ipykernel' into the Python environment. \n",
      "\u001b[1;31mCommand: '/usr/bin/python3 -m pip install ipykernel -U --user --force-reinstall'"
     ]
    }
   ],
   "source": [
    "# View dataset desrciption\n",
    "print(california.DESCR)"
   ]
  },
  {
   "cell_type": "markdown",
   "id": "455f15aa-9802-4302-a17a-272e04048293",
   "metadata": {},
   "source": [
    "Notes: There are no missing values, and all eight features are numerical."
   ]
  },
  {
   "cell_type": "code",
   "execution_count": null,
   "id": "2521b562-ff96-4f24-bc6c-2f00091adfcc",
   "metadata": {},
   "outputs": [
    {
     "ename": "",
     "evalue": "",
     "output_type": "error",
     "traceback": [
      "\u001b[1;31mRunning cells with '/usr/bin/python3' requires the ipykernel package.\n",
      "\u001b[1;31mRun the following command to install 'ipykernel' into the Python environment. \n",
      "\u001b[1;31mCommand: '/usr/bin/python3 -m pip install ipykernel -U --user --force-reinstall'"
     ]
    }
   ],
   "source": [
    "# View number of samples and features\n",
    "california.data.shape"
   ]
  },
  {
   "cell_type": "code",
   "execution_count": null,
   "id": "c12403b5-dc42-4304-a185-233f96fd3cd6",
   "metadata": {},
   "outputs": [
    {
     "ename": "",
     "evalue": "",
     "output_type": "error",
     "traceback": [
      "\u001b[1;31mRunning cells with '/usr/bin/python3' requires the ipykernel package.\n",
      "\u001b[1;31mRun the following command to install 'ipykernel' into the Python environment. \n",
      "\u001b[1;31mCommand: '/usr/bin/python3 -m pip install ipykernel -U --user --force-reinstall'"
     ]
    }
   ],
   "source": [
    "# See number of target values\n",
    "california.target.shape"
   ]
  },
  {
   "cell_type": "markdown",
   "id": "a2c63eab-fbe2-4872-8bc6-4414b49e64d6",
   "metadata": {},
   "source": [
    "The number of samples for the features and the target values are the same."
   ]
  },
  {
   "cell_type": "code",
   "execution_count": null,
   "id": "8756b22e-8ddb-4bb4-b092-9d0e78807f08",
   "metadata": {},
   "outputs": [
    {
     "ename": "",
     "evalue": "",
     "output_type": "error",
     "traceback": [
      "\u001b[1;31mRunning cells with '/usr/bin/python3' requires the ipykernel package.\n",
      "\u001b[1;31mRun the following command to install 'ipykernel' into the Python environment. \n",
      "\u001b[1;31mCommand: '/usr/bin/python3 -m pip install ipykernel -U --user --force-reinstall'"
     ]
    }
   ],
   "source": [
    "# View the feature names of the dataset\n",
    "california.feature_names"
   ]
  },
  {
   "cell_type": "markdown",
   "id": "15e6407f-0066-4014-a94d-fea4abe65d63",
   "metadata": {},
   "source": [
    "### Data Exploration"
   ]
  },
  {
   "cell_type": "code",
   "execution_count": null,
   "id": "10e3f914-d2ee-4ba6-872d-b1923a6f967e",
   "metadata": {},
   "outputs": [
    {
     "ename": "",
     "evalue": "",
     "output_type": "error",
     "traceback": [
      "\u001b[1;31mRunning cells with '/usr/bin/python3' requires the ipykernel package.\n",
      "\u001b[1;31mRun the following command to install 'ipykernel' into the Python environment. \n",
      "\u001b[1;31mCommand: '/usr/bin/python3 -m pip install ipykernel -U --user --force-reinstall'"
     ]
    }
   ],
   "source": [
    "# Import pandas\n",
    "import pandas as pd"
   ]
  },
  {
   "cell_type": "code",
   "execution_count": null,
   "id": "7d9cac05-b73c-4e0b-a6a3-ec56bfb65144",
   "metadata": {},
   "outputs": [
    {
     "ename": "",
     "evalue": "",
     "output_type": "error",
     "traceback": [
      "\u001b[1;31mRunning cells with '/usr/bin/python3' requires the ipykernel package.\n",
      "\u001b[1;31mRun the following command to install 'ipykernel' into the Python environment. \n",
      "\u001b[1;31mCommand: '/usr/bin/python3 -m pip install ipykernel -U --user --force-reinstall'"
     ]
    }
   ],
   "source": [
    "# Set display options\n",
    "pd.set_option('display.precision', 4)\n",
    "pd.set_option('display.max_columns', 9)\n",
    "pd.set_option('display.width', None)"
   ]
  },
  {
   "cell_type": "code",
   "execution_count": null,
   "id": "caa6e9a4-f4fb-45be-abbe-904e85538e5f",
   "metadata": {},
   "outputs": [
    {
     "ename": "",
     "evalue": "",
     "output_type": "error",
     "traceback": [
      "\u001b[1;31mRunning cells with '/usr/bin/python3' requires the ipykernel package.\n",
      "\u001b[1;31mRun the following command to install 'ipykernel' into the Python environment. \n",
      "\u001b[1;31mCommand: '/usr/bin/python3 -m pip install ipykernel -U --user --force-reinstall'"
     ]
    }
   ],
   "source": [
    "# Create DataFrame of the data, target, and feature_names\n",
    "california_df = pd.DataFrame(california.data, columns = california.feature_names)\n",
    "california_df['MedHouseValue'] = pd.Series(california.target)"
   ]
  },
  {
   "cell_type": "code",
   "execution_count": null,
   "id": "c464964f-5910-467c-988d-19e4e4801a87",
   "metadata": {},
   "outputs": [
    {
     "ename": "",
     "evalue": "",
     "output_type": "error",
     "traceback": [
      "\u001b[1;31mRunning cells with '/usr/bin/python3' requires the ipykernel package.\n",
      "\u001b[1;31mRun the following command to install 'ipykernel' into the Python environment. \n",
      "\u001b[1;31mCommand: '/usr/bin/python3 -m pip install ipykernel -U --user --force-reinstall'"
     ]
    }
   ],
   "source": [
    "# View first 5 rows of DataFrame\n",
    "california_df.head()"
   ]
  },
  {
   "cell_type": "code",
   "execution_count": null,
   "id": "5700e0fa-4aa6-45c3-8267-ab98b24828e7",
   "metadata": {},
   "outputs": [
    {
     "ename": "",
     "evalue": "",
     "output_type": "error",
     "traceback": [
      "\u001b[1;31mRunning cells with '/usr/bin/python3' requires the ipykernel package.\n",
      "\u001b[1;31mRun the following command to install 'ipykernel' into the Python environment. \n",
      "\u001b[1;31mCommand: '/usr/bin/python3 -m pip install ipykernel -U --user --force-reinstall'"
     ]
    }
   ],
   "source": [
    "# Get summary statistics for the DataFrame\n",
    "california_df.describe()"
   ]
  },
  {
   "cell_type": "markdown",
   "id": "475c271c-15bf-4a94-9621-325f92a289fc",
   "metadata": {},
   "source": [
    "All of the features are fairly normally distributed, with the mean being close to the median value. The biggest difference between the mean and median values is in Population, which appears to be skewed toward the higher end."
   ]
  },
  {
   "cell_type": "code",
   "execution_count": null,
   "id": "189af5ee-3125-45f3-9311-75e3a4b4b2ec",
   "metadata": {},
   "outputs": [
    {
     "ename": "",
     "evalue": "",
     "output_type": "error",
     "traceback": [
      "\u001b[1;31mRunning cells with '/usr/bin/python3' requires the ipykernel package.\n",
      "\u001b[1;31mRun the following command to install 'ipykernel' into the Python environment. \n",
      "\u001b[1;31mCommand: '/usr/bin/python3 -m pip install ipykernel -U --user --force-reinstall'"
     ]
    }
   ],
   "source": [
    "# Create histograms for each column\n",
    "histograms = california_df.hist(figsize = (14, 14))"
   ]
  },
  {
   "cell_type": "markdown",
   "id": "827cf5a3-a379-4ec9-a900-b8ff18804899",
   "metadata": {},
   "source": [
    "Average number of rooms, average number of bedrooms, population, and average occupancy all appear to be heavily affected by some extreme values on the high end. From the descriptive statistics, we see that the highest average number of rooms is 141, the highest average number of bedrooms is 34, the highest population is 35,682, and the highest average occupancy is 1243. These are all significantly higher than the mean and median values for those features."
   ]
  },
  {
   "cell_type": "markdown",
   "id": "298712c7-0657-42be-8694-e8d6c4325139",
   "metadata": {},
   "source": [
    "### Visualizations"
   ]
  },
  {
   "cell_type": "code",
   "execution_count": null,
   "id": "a08e90e6-13f2-4495-8090-252484fed64f",
   "metadata": {},
   "outputs": [
    {
     "ename": "",
     "evalue": "",
     "output_type": "error",
     "traceback": [
      "\u001b[1;31mRunning cells with '/usr/bin/python3' requires the ipykernel package.\n",
      "\u001b[1;31mRun the following command to install 'ipykernel' into the Python environment. \n",
      "\u001b[1;31mCommand: '/usr/bin/python3 -m pip install ipykernel -U --user --force-reinstall'"
     ]
    }
   ],
   "source": [
    "# Select 10% of the samples to make the graphs more readable\n",
    "sample_df = california_df.sample(frac = 0.1, random_state = 17)"
   ]
  },
  {
   "cell_type": "code",
   "execution_count": null,
   "id": "dd966c07-ac1e-4760-abd5-93fe9c4bf627",
   "metadata": {},
   "outputs": [
    {
     "ename": "",
     "evalue": "",
     "output_type": "error",
     "traceback": [
      "\u001b[1;31mRunning cells with '/usr/bin/python3' requires the ipykernel package.\n",
      "\u001b[1;31mRun the following command to install 'ipykernel' into the Python environment. \n",
      "\u001b[1;31mCommand: '/usr/bin/python3 -m pip install ipykernel -U --user --force-reinstall'"
     ]
    }
   ],
   "source": [
    "# Import libraries\n",
    "import matplotlib.pyplot as plt\n",
    "import seaborn as sns"
   ]
  },
  {
   "cell_type": "code",
   "execution_count": null,
   "id": "9233aa42-e08c-4f78-a814-691e2c3fcfa8",
   "metadata": {},
   "outputs": [
    {
     "ename": "",
     "evalue": "",
     "output_type": "error",
     "traceback": [
      "\u001b[1;31mRunning cells with '/usr/bin/python3' requires the ipykernel package.\n",
      "\u001b[1;31mRun the following command to install 'ipykernel' into the Python environment. \n",
      "\u001b[1;31mCommand: '/usr/bin/python3 -m pip install ipykernel -U --user --force-reinstall'"
     ]
    }
   ],
   "source": [
    "# Set seaborn display options\n",
    "sns.set(font_scale = 2)\n",
    "sns.set_style('whitegrid')"
   ]
  },
  {
   "cell_type": "code",
   "execution_count": null,
   "id": "03080ce4-61c9-4ade-9c9a-d5fbfffcbc0a",
   "metadata": {},
   "outputs": [
    {
     "ename": "",
     "evalue": "",
     "output_type": "error",
     "traceback": [
      "\u001b[1;31mRunning cells with '/usr/bin/python3' requires the ipykernel package.\n",
      "\u001b[1;31mRun the following command to install 'ipykernel' into the Python environment. \n",
      "\u001b[1;31mCommand: '/usr/bin/python3 -m pip install ipykernel -U --user --force-reinstall'"
     ]
    }
   ],
   "source": [
    "# Display a scatterplot for each feature vs the target value\n",
    "for feature in california.feature_names:\n",
    "    plt.figure(figsize = (12, 8))\n",
    "    sns.scatterplot(data = sample_df, x = feature, y = 'MedHouseValue', hue = 'MedHouseValue', palette = 'cool', \n",
    "                    legend = False)"
   ]
  },
  {
   "cell_type": "markdown",
   "id": "3ebac773-6078-47ba-a70b-173de07b28f4",
   "metadata": {},
   "source": [
    "Each graph has a horizontal line of dots at y = 5 because the highest home value option on the survey was \"\\\\$500,000 or more,\" so any house valued more than \\\\$500,000 is in the same category.\n",
    "\n",
    "MedInc appears to have a roughly linear relationship with MedHouseValue. HouseAge doesn't appear to have much of a correlation with MedHouseValue. It is difficult to tell from these graphs due to extreme values, but AveRooms, AveBedrms, Population, and AveOccup may have a slight positive linear relationship with MedHouseValue. Latitude and Longitude both have two clusters. These represent densely-populated areas (Los Angeles and San Francisco areas)."
   ]
  },
  {
   "cell_type": "markdown",
   "id": "914fd82c-e62c-4aae-b4fc-19e9e07feec6",
   "metadata": {},
   "source": [
    "### Train-Test Split"
   ]
  },
  {
   "cell_type": "code",
   "execution_count": null,
   "id": "d0b0a069-2adc-46bf-8341-fb943fbcc91d",
   "metadata": {},
   "outputs": [
    {
     "ename": "",
     "evalue": "",
     "output_type": "error",
     "traceback": [
      "\u001b[1;31mRunning cells with '/usr/bin/python3' requires the ipykernel package.\n",
      "\u001b[1;31mRun the following command to install 'ipykernel' into the Python environment. \n",
      "\u001b[1;31mCommand: '/usr/bin/python3 -m pip install ipykernel -U --user --force-reinstall'"
     ]
    }
   ],
   "source": [
    "# Import train-test split function\n",
    "from sklearn.model_selection import train_test_split"
   ]
  },
  {
   "cell_type": "code",
   "execution_count": null,
   "id": "604936c9-0e90-45b0-9dce-5958834ce528",
   "metadata": {},
   "outputs": [
    {
     "ename": "",
     "evalue": "",
     "output_type": "error",
     "traceback": [
      "\u001b[1;31mRunning cells with '/usr/bin/python3' requires the ipykernel package.\n",
      "\u001b[1;31mRun the following command to install 'ipykernel' into the Python environment. \n",
      "\u001b[1;31mCommand: '/usr/bin/python3 -m pip install ipykernel -U --user --force-reinstall'"
     ]
    }
   ],
   "source": [
    "# Split data into train and test sets\n",
    "X_train, X_test, y_train, y_test = train_test_split(california.data, california.target, random_state = 11)"
   ]
  },
  {
   "cell_type": "code",
   "execution_count": null,
   "id": "9eb66488-7d19-4c5c-9ee8-a24eaceaec07",
   "metadata": {},
   "outputs": [
    {
     "ename": "",
     "evalue": "",
     "output_type": "error",
     "traceback": [
      "\u001b[1;31mRunning cells with '/usr/bin/python3' requires the ipykernel package.\n",
      "\u001b[1;31mRun the following command to install 'ipykernel' into the Python environment. \n",
      "\u001b[1;31mCommand: '/usr/bin/python3 -m pip install ipykernel -U --user --force-reinstall'"
     ]
    }
   ],
   "source": [
    "# Check size of train set\n",
    "X_train.shape"
   ]
  },
  {
   "cell_type": "code",
   "execution_count": null,
   "id": "35108997-f04a-4c18-9df6-5fb54366cbfb",
   "metadata": {},
   "outputs": [
    {
     "ename": "",
     "evalue": "",
     "output_type": "error",
     "traceback": [
      "\u001b[1;31mRunning cells with '/usr/bin/python3' requires the ipykernel package.\n",
      "\u001b[1;31mRun the following command to install 'ipykernel' into the Python environment. \n",
      "\u001b[1;31mCommand: '/usr/bin/python3 -m pip install ipykernel -U --user --force-reinstall'"
     ]
    }
   ],
   "source": [
    "# Check size of test set\n",
    "X_test.shape"
   ]
  },
  {
   "cell_type": "markdown",
   "id": "13068816-e8bf-46ac-82f5-d6ae964f2b8d",
   "metadata": {},
   "source": [
    "### Train Model"
   ]
  },
  {
   "cell_type": "code",
   "execution_count": null,
   "id": "5ed0e82b-88a4-487b-a995-2aae451ef2cf",
   "metadata": {},
   "outputs": [
    {
     "ename": "",
     "evalue": "",
     "output_type": "error",
     "traceback": [
      "\u001b[1;31mRunning cells with '/usr/bin/python3' requires the ipykernel package.\n",
      "\u001b[1;31mRun the following command to install 'ipykernel' into the Python environment. \n",
      "\u001b[1;31mCommand: '/usr/bin/python3 -m pip install ipykernel -U --user --force-reinstall'"
     ]
    }
   ],
   "source": [
    "# Import Linear Regression \n",
    "from sklearn.linear_model import LinearRegression"
   ]
  },
  {
   "cell_type": "code",
   "execution_count": null,
   "id": "d3c14a78-5a57-45a6-bab0-85105e2bd258",
   "metadata": {},
   "outputs": [
    {
     "ename": "",
     "evalue": "",
     "output_type": "error",
     "traceback": [
      "\u001b[1;31mRunning cells with '/usr/bin/python3' requires the ipykernel package.\n",
      "\u001b[1;31mRun the following command to install 'ipykernel' into the Python environment. \n",
      "\u001b[1;31mCommand: '/usr/bin/python3 -m pip install ipykernel -U --user --force-reinstall'"
     ]
    }
   ],
   "source": [
    "# Create linear regression estimator\n",
    "linear_regression = LinearRegression()"
   ]
  },
  {
   "cell_type": "code",
   "execution_count": null,
   "id": "e44f761f-01a6-45db-b437-e764a96b343b",
   "metadata": {},
   "outputs": [
    {
     "ename": "",
     "evalue": "",
     "output_type": "error",
     "traceback": [
      "\u001b[1;31mRunning cells with '/usr/bin/python3' requires the ipykernel package.\n",
      "\u001b[1;31mRun the following command to install 'ipykernel' into the Python environment. \n",
      "\u001b[1;31mCommand: '/usr/bin/python3 -m pip install ipykernel -U --user --force-reinstall'"
     ]
    }
   ],
   "source": [
    "# Fit data using train data sets\n",
    "linear_regression.fit(X = X_train, y = y_train)"
   ]
  },
  {
   "cell_type": "code",
   "execution_count": null,
   "id": "eeda6ce1-3585-4248-835a-01091b1969e8",
   "metadata": {},
   "outputs": [
    {
     "ename": "",
     "evalue": "",
     "output_type": "error",
     "traceback": [
      "\u001b[1;31mRunning cells with '/usr/bin/python3' requires the ipykernel package.\n",
      "\u001b[1;31mRun the following command to install 'ipykernel' into the Python environment. \n",
      "\u001b[1;31mCommand: '/usr/bin/python3 -m pip install ipykernel -U --user --force-reinstall'"
     ]
    }
   ],
   "source": [
    "# Get coefficients for each feature\n",
    "for i, name in enumerate(california.feature_names):\n",
    "    print(f'{name:>10}: {linear_regression.coef_[i]}')"
   ]
  },
  {
   "cell_type": "markdown",
   "id": "aba21fe6-ee0c-4ed4-9673-667c6f4a9598",
   "metadata": {},
   "source": [
    "The average number of bedrooms has the biggest correlation with the median house value. Median income, latitude, and longitude are all pretty similar in magnitude, but income is a positive relationship, while latitude and longitude are both negatively correlated with median house value. The population has almost no effect on median house value, according to this model."
   ]
  },
  {
   "cell_type": "code",
   "execution_count": null,
   "id": "a449920f-1bea-4c91-8a61-232f92d4f22f",
   "metadata": {},
   "outputs": [
    {
     "ename": "",
     "evalue": "",
     "output_type": "error",
     "traceback": [
      "\u001b[1;31mRunning cells with '/usr/bin/python3' requires the ipykernel package.\n",
      "\u001b[1;31mRun the following command to install 'ipykernel' into the Python environment. \n",
      "\u001b[1;31mCommand: '/usr/bin/python3 -m pip install ipykernel -U --user --force-reinstall'"
     ]
    }
   ],
   "source": [
    "# Get intercept of model\n",
    "linear_regression.intercept_"
   ]
  },
  {
   "cell_type": "markdown",
   "id": "7757bdaf-a531-407d-80c5-c0e519e326c6",
   "metadata": {},
   "source": [
    "### Test Model"
   ]
  },
  {
   "cell_type": "code",
   "execution_count": null,
   "id": "f80d22f1-c346-4952-903d-c5600620846f",
   "metadata": {},
   "outputs": [
    {
     "ename": "",
     "evalue": "",
     "output_type": "error",
     "traceback": [
      "\u001b[1;31mRunning cells with '/usr/bin/python3' requires the ipykernel package.\n",
      "\u001b[1;31mRun the following command to install 'ipykernel' into the Python environment. \n",
      "\u001b[1;31mCommand: '/usr/bin/python3 -m pip install ipykernel -U --user --force-reinstall'"
     ]
    }
   ],
   "source": [
    "# Get predicted y values based on X_test\n",
    "predicted = linear_regression.predict(X_test)"
   ]
  },
  {
   "cell_type": "code",
   "execution_count": null,
   "id": "0e3c0cde-1ed7-41de-942f-0e2a7c74fb9f",
   "metadata": {},
   "outputs": [
    {
     "ename": "",
     "evalue": "",
     "output_type": "error",
     "traceback": [
      "\u001b[1;31mRunning cells with '/usr/bin/python3' requires the ipykernel package.\n",
      "\u001b[1;31mRun the following command to install 'ipykernel' into the Python environment. \n",
      "\u001b[1;31mCommand: '/usr/bin/python3 -m pip install ipykernel -U --user --force-reinstall'"
     ]
    }
   ],
   "source": [
    "# Save true y values as \"expected\"\n",
    "expected = y_test"
   ]
  },
  {
   "cell_type": "code",
   "execution_count": null,
   "id": "6ff385b0-2f46-46dd-94eb-9c2689b8b2d2",
   "metadata": {},
   "outputs": [
    {
     "ename": "",
     "evalue": "",
     "output_type": "error",
     "traceback": [
      "\u001b[1;31mRunning cells with '/usr/bin/python3' requires the ipykernel package.\n",
      "\u001b[1;31mRun the following command to install 'ipykernel' into the Python environment. \n",
      "\u001b[1;31mCommand: '/usr/bin/python3 -m pip install ipykernel -U --user --force-reinstall'"
     ]
    }
   ],
   "source": [
    "# Look at first 5 predicted values and corresponding expected values\n",
    "predicted[:5]"
   ]
  },
  {
   "cell_type": "code",
   "execution_count": null,
   "id": "5aef2065-7935-42a7-9ae7-97e741cb3fb6",
   "metadata": {},
   "outputs": [
    {
     "ename": "",
     "evalue": "",
     "output_type": "error",
     "traceback": [
      "\u001b[1;31mRunning cells with '/usr/bin/python3' requires the ipykernel package.\n",
      "\u001b[1;31mRun the following command to install 'ipykernel' into the Python environment. \n",
      "\u001b[1;31mCommand: '/usr/bin/python3 -m pip install ipykernel -U --user --force-reinstall'"
     ]
    }
   ],
   "source": [
    "expected[:5]"
   ]
  },
  {
   "cell_type": "markdown",
   "id": "c3fa2470-cb79-4fb3-869e-c7fbce97155b",
   "metadata": {},
   "source": [
    "### Visualizing Expected vs Predicted Values"
   ]
  },
  {
   "cell_type": "code",
   "execution_count": null,
   "id": "221265e3-30d0-4486-bbcd-bd861c93ba15",
   "metadata": {},
   "outputs": [
    {
     "ename": "",
     "evalue": "",
     "output_type": "error",
     "traceback": [
      "\u001b[1;31mRunning cells with '/usr/bin/python3' requires the ipykernel package.\n",
      "\u001b[1;31mRun the following command to install 'ipykernel' into the Python environment. \n",
      "\u001b[1;31mCommand: '/usr/bin/python3 -m pip install ipykernel -U --user --force-reinstall'"
     ]
    }
   ],
   "source": [
    "# Create DataFrame of expected and predicted values\n",
    "df = pd.DataFrame()\n",
    "df['Expected'] = pd.Series(expected)\n",
    "df['Predicted'] = pd.Series(predicted)"
   ]
  },
  {
   "cell_type": "code",
   "execution_count": null,
   "id": "e20b787e-6aa1-4e12-b5f3-0b14cfea2c6c",
   "metadata": {},
   "outputs": [
    {
     "ename": "",
     "evalue": "",
     "output_type": "error",
     "traceback": [
      "\u001b[1;31mRunning cells with '/usr/bin/python3' requires the ipykernel package.\n",
      "\u001b[1;31mRun the following command to install 'ipykernel' into the Python environment. \n",
      "\u001b[1;31mCommand: '/usr/bin/python3 -m pip install ipykernel -U --user --force-reinstall'"
     ]
    }
   ],
   "source": [
    "# Plot expected vs predicted values\n",
    "figure = plt.figure(figsize = (9, 9))\n",
    "axes = sns.scatterplot(data = df, x = 'Expected', y = 'Predicted', hue = 'Predicted', palette = 'cool', legend = False)\n",
    "\n",
    "# Set x and y limits to use same scale for both axes\n",
    "start = min(expected.min(), predicted.min())\n",
    "end = max(expected.max(), predicted.max())\n",
    "axes.set_xlim(start, end)\n",
    "axes.set_ylim(start, end)\n",
    "\n",
    "# Add line representing perfect predictions\n",
    "line = plt.plot([start, end], [start, end], 'k--')"
   ]
  },
  {
   "cell_type": "markdown",
   "id": "6db76778-22d6-44bf-ad9d-c499e2ae1a1e",
   "metadata": {},
   "source": [
    "The model appears more likely to predict lower than expected values for higher-priced homes. This could be due to the fact that all houses valued at $500,000 or more are given the same value. "
   ]
  },
  {
   "cell_type": "markdown",
   "id": "e1400d95-8146-4c2f-9f12-d1928d3ba491",
   "metadata": {},
   "source": [
    "### Regression Model Metrics"
   ]
  },
  {
   "cell_type": "code",
   "execution_count": null,
   "id": "5a0e1093-239f-4ec1-8fb7-8c3eba1f2474",
   "metadata": {},
   "outputs": [
    {
     "ename": "",
     "evalue": "",
     "output_type": "error",
     "traceback": [
      "\u001b[1;31mRunning cells with '/usr/bin/python3' requires the ipykernel package.\n",
      "\u001b[1;31mRun the following command to install 'ipykernel' into the Python environment. \n",
      "\u001b[1;31mCommand: '/usr/bin/python3 -m pip install ipykernel -U --user --force-reinstall'"
     ]
    }
   ],
   "source": [
    "# Import metrics module\n",
    "from sklearn import metrics"
   ]
  },
  {
   "cell_type": "code",
   "execution_count": null,
   "id": "c502370d-250f-42eb-ba27-68b29528fa8c",
   "metadata": {},
   "outputs": [
    {
     "ename": "",
     "evalue": "",
     "output_type": "error",
     "traceback": [
      "\u001b[1;31mRunning cells with '/usr/bin/python3' requires the ipykernel package.\n",
      "\u001b[1;31mRun the following command to install 'ipykernel' into the Python environment. \n",
      "\u001b[1;31mCommand: '/usr/bin/python3 -m pip install ipykernel -U --user --force-reinstall'"
     ]
    }
   ],
   "source": [
    "# Get R^2 score\n",
    "metrics.r2_score(expected, predicted)"
   ]
  },
  {
   "cell_type": "markdown",
   "id": "100abd34-2178-410c-8890-cc1201175da6",
   "metadata": {},
   "source": [
    "About 60% of the change in median house value can be explained by the features used in this model."
   ]
  },
  {
   "cell_type": "code",
   "execution_count": null,
   "id": "55648448-cdf4-4a6f-a5ab-8c7780eae65b",
   "metadata": {},
   "outputs": [
    {
     "ename": "",
     "evalue": "",
     "output_type": "error",
     "traceback": [
      "\u001b[1;31mRunning cells with '/usr/bin/python3' requires the ipykernel package.\n",
      "\u001b[1;31mRun the following command to install 'ipykernel' into the Python environment. \n",
      "\u001b[1;31mCommand: '/usr/bin/python3 -m pip install ipykernel -U --user --force-reinstall'"
     ]
    }
   ],
   "source": [
    "# Get mean squared error for model\n",
    "metrics.mean_squared_error(expected, predicted)"
   ]
  },
  {
   "cell_type": "markdown",
   "id": "0cfa40d8-cc88-460d-b6e3-f9670297398d",
   "metadata": {},
   "source": [
    "Low MSEs indicate better prediction performance. Since they can range from 0 to infinity, more models would have to be fit for this dataset in order to judge how good this MSE value is."
   ]
  },
  {
   "cell_type": "markdown",
   "id": "3014d9b7-5ca7-4d77-a4ad-99afaeee4fae",
   "metadata": {},
   "source": [
    "### Choosing the Best Model"
   ]
  },
  {
   "cell_type": "code",
   "execution_count": null,
   "id": "c5518cf6-917d-4777-a87b-b2e3e9ac54c6",
   "metadata": {},
   "outputs": [
    {
     "ename": "",
     "evalue": "",
     "output_type": "error",
     "traceback": [
      "\u001b[1;31mRunning cells with '/usr/bin/python3' requires the ipykernel package.\n",
      "\u001b[1;31mRun the following command to install 'ipykernel' into the Python environment. \n",
      "\u001b[1;31mCommand: '/usr/bin/python3 -m pip install ipykernel -U --user --force-reinstall'"
     ]
    }
   ],
   "source": [
    "# Import other estimators for comparison\n",
    "from sklearn.linear_model import ElasticNet, Lasso, Ridge"
   ]
  },
  {
   "cell_type": "code",
   "execution_count": null,
   "id": "2c07a7af-33a6-4255-ae68-f593188e125d",
   "metadata": {},
   "outputs": [
    {
     "ename": "",
     "evalue": "",
     "output_type": "error",
     "traceback": [
      "\u001b[1;31mRunning cells with '/usr/bin/python3' requires the ipykernel package.\n",
      "\u001b[1;31mRun the following command to install 'ipykernel' into the Python environment. \n",
      "\u001b[1;31mCommand: '/usr/bin/python3 -m pip install ipykernel -U --user --force-reinstall'"
     ]
    }
   ],
   "source": [
    "# Create dictionary of estimator objects\n",
    "estimators = {\n",
    "    'LinearRegression': linear_regression,\n",
    "    'ElasticNet': ElasticNet(),\n",
    "    'Lasso': Lasso(),\n",
    "    'Ridge': Ridge()\n",
    "}"
   ]
  },
  {
   "cell_type": "code",
   "execution_count": null,
   "id": "95d54e8c-3720-49ed-a5ab-cbc993dea563",
   "metadata": {},
   "outputs": [
    {
     "ename": "",
     "evalue": "",
     "output_type": "error",
     "traceback": [
      "\u001b[1;31mRunning cells with '/usr/bin/python3' requires the ipykernel package.\n",
      "\u001b[1;31mRun the following command to install 'ipykernel' into the Python environment. \n",
      "\u001b[1;31mCommand: '/usr/bin/python3 -m pip install ipykernel -U --user --force-reinstall'"
     ]
    }
   ],
   "source": [
    "# Import modules for k-fold cross validation\n",
    "from sklearn.model_selection import KFold, cross_val_score"
   ]
  },
  {
   "cell_type": "code",
   "execution_count": null,
   "id": "be3f9de7-597c-4222-9da9-1e79d3c88770",
   "metadata": {},
   "outputs": [
    {
     "ename": "",
     "evalue": "",
     "output_type": "error",
     "traceback": [
      "\u001b[1;31mRunning cells with '/usr/bin/python3' requires the ipykernel package.\n",
      "\u001b[1;31mRun the following command to install 'ipykernel' into the Python environment. \n",
      "\u001b[1;31mCommand: '/usr/bin/python3 -m pip install ipykernel -U --user --force-reinstall'"
     ]
    }
   ],
   "source": [
    "# Get mean R^2 values for each estimator using k-fold cross validation\n",
    "for estimator_name, estimator_object in estimators.items():\n",
    "    kfold = KFold(n_splits = 10, random_state = 11, shuffle = True)\n",
    "    scores = cross_val_score(estimator = estimator_object, X = california.data, y = california.target, cv = kfold,\n",
    "                             scoring = 'r2')\n",
    "    print(f'{estimator_name:>16}: ' + f'mean of r2 scores = {scores.mean():.3f}')"
   ]
  },
  {
   "cell_type": "markdown",
   "id": "35b9dbf3-660e-42e3-afdd-0798a55aa3bf",
   "metadata": {},
   "source": [
    "The LinearRegression and Ridge models have the highest R^2 values for this dataset at 0.599, so either of them would provide the best performance to predict median house values in California. "
   ]
  }
 ],
 "metadata": {
  "kernelspec": {
   "display_name": "Python 3",
   "language": "python",
   "name": "python3"
  },
  "language_info": {
   "codemirror_mode": {
    "name": "ipython",
    "version": 3
   },
   "file_extension": ".py",
   "mimetype": "text/x-python",
   "name": "python",
   "nbconvert_exporter": "python",
   "pygments_lexer": "ipython3",
   "version": "3.9.6"
  },
  "vscode": {
   "interpreter": {
    "hash": "31f2aee4e71d21fbe5cf8b01ff0e069b9275f58929596ceb00d14d90e3e16cd6"
   }
  }
 },
 "nbformat": 4,
 "nbformat_minor": 5
}
