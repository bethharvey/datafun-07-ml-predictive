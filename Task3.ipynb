{
 "cells": [
  {
   "cell_type": "markdown",
   "id": "e42dead1-1eaa-4a42-bd80-d1954ba4abd2",
   "metadata": {},
   "source": [
    "# Beth Harvey\n",
    "## Data Analytics Fundamentals Project 7\n",
    "## February 21, 2023"
   ]
  },
  {
   "cell_type": "code",
   "execution_count": 1,
   "id": "714e512a-13ea-41d9-aaa2-257d7f5f1ba2",
   "metadata": {},
   "outputs": [],
   "source": [
    "# Enable matplotlib\n",
    "%matplotlib inline"
   ]
  },
  {
   "cell_type": "code",
   "execution_count": 2,
   "id": "2dcda26d-31bb-40ec-b10b-c9c0b10eaeb5",
   "metadata": {},
   "outputs": [],
   "source": [
    "# Create data for plot of Celsius vs. Fahrenheit temps\n",
    "c = lambda f: 5 / 9 * (f - 32)\n",
    "temps = [(f, c(f)) for f in range(0, 101, 10)]"
   ]
  },
  {
   "cell_type": "code",
   "execution_count": 3,
   "id": "a199df38-2211-4cfe-ac6a-e23c63811682",
   "metadata": {},
   "outputs": [],
   "source": [
    "# Import pandas\n",
    "import pandas as pd"
   ]
  },
  {
   "cell_type": "code",
   "execution_count": 4,
   "id": "ed0b412d-71cc-4113-9f7c-0e99b3d0a0cc",
   "metadata": {},
   "outputs": [],
   "source": [
    "# Save temps as a dataframe\n",
    "temps_df = pd.DataFrame(temps, columns = ['Fahrenheit', 'Celsius'])"
   ]
  },
  {
   "cell_type": "markdown",
   "id": "bb30361e-d48d-4530-9f37-d3074951a629",
   "metadata": {},
   "source": [
    "## Plot Celsius vs. Fahrenheit Temperatures"
   ]
  },
  {
   "cell_type": "code",
   "execution_count": 5,
   "id": "ce624066-d00b-4790-acaf-7bee853fa15f",
   "metadata": {},
   "outputs": [
    {
     "data": {
      "image/png": "[encoded data removed]",
      "text/plain": [
       "<Figure size 432x288 with 1 Axes>"
      ]
     },
     "metadata": {
      "needs_background": "light"
     },
     "output_type": "display_data"
    }
   ],
   "source": [
    "# Plot Celsius vs. Fahrenheit\n",
    "axes = temps_df.plot(x = 'Fahrenheit', y = 'Celsius', style = '.-')\n",
    "y_label = axes.set_ylabel('Celsius')"
   ]
  },
  {
   "cell_type": "markdown",
   "id": "56b75a60-1d11-4a5c-bda1-cee986db3412",
   "metadata": {},
   "source": [
    "## NYC January Temp Analysis"
   ]
  },
  {
   "cell_type": "markdown",
   "id": "11cf06bb-e1af-406c-909a-234d4029b013",
   "metadata": {},
   "source": [
    "### Load Data"
   ]
  },
  {
   "cell_type": "code",
   "execution_count": 6,
   "id": "9a250645-c23c-4b63-ad40-261f9e9098ed",
   "metadata": {},
   "outputs": [],
   "source": [
    "# Load CSV into a dataframe\n",
    "nyc = pd.read_csv('ave_hi_nyc_jan_1895-2018.csv')"
   ]
  },
  {
   "cell_type": "markdown",
   "id": "ba2ea2dc-3b55-486e-93b2-9b1ab4354004",
   "metadata": {},
   "source": [
    "### View Data"
   ]
  },
  {
   "cell_type": "code",
   "execution_count": 7,
   "id": "7cdc2d9a-a680-4899-8b78-74e97298a6ac",
   "metadata": {},
   "outputs": [
    {
     "data": {
      "text/html": [
       "<div>\n",
       "<style scoped>\n",
       "    .dataframe tbody tr th:only-of-type {\n",
       "        vertical-align: middle;\n",
       "    }\n",
       "\n",
       "    .dataframe tbody tr th {\n",
       "        vertical-align: top;\n",
       "    }\n",
       "\n",
       "    .dataframe thead th {\n",
       "        text-align: right;\n",
       "    }\n",
       "</style>\n",
       "<table border=\"1\" class=\"dataframe\">\n",
       "  <thead>\n",
       "    <tr style=\"text-align: right;\">\n",
       "      <th></th>\n",
       "      <th>Date</th>\n",
       "      <th>Value</th>\n",
       "      <th>Anomaly</th>\n",
       "    </tr>\n",
       "  </thead>\n",
       "  <tbody>\n",
       "    <tr>\n",
       "      <th>0</th>\n",
       "      <td>189501</td>\n",
       "      <td>34.2</td>\n",
       "      <td>-3.2</td>\n",
       "    </tr>\n",
       "    <tr>\n",
       "      <th>1</th>\n",
       "      <td>189601</td>\n",
       "      <td>34.7</td>\n",
       "      <td>-2.7</td>\n",
       "    </tr>\n",
       "    <tr>\n",
       "      <th>2</th>\n",
       "      <td>189701</td>\n",
       "      <td>35.5</td>\n",
       "      <td>-1.9</td>\n",
       "    </tr>\n",
       "    <tr>\n",
       "      <th>3</th>\n",
       "      <td>189801</td>\n",
       "      <td>39.6</td>\n",
       "      <td>2.2</td>\n",
       "    </tr>\n",
       "    <tr>\n",
       "      <th>4</th>\n",
       "      <td>189901</td>\n",
       "      <td>36.4</td>\n",
       "      <td>-1.0</td>\n",
       "    </tr>\n",
       "  </tbody>\n",
       "</table>\n",
       "</div>"
      ],
      "text/plain": [
       "     Date  Value  Anomaly\n",
       "0  189501   34.2     -3.2\n",
       "1  189601   34.7     -2.7\n",
       "2  189701   35.5     -1.9\n",
       "3  189801   39.6      2.2\n",
       "4  189901   36.4     -1.0"
      ]
     },
     "execution_count": 7,
     "metadata": {},
     "output_type": "execute_result"
    }
   ],
   "source": [
    "# Look at first and last 5 rows of dataframe\n",
    "nyc.head()"
   ]
  },
  {
   "cell_type": "code",
   "execution_count": 8,
   "id": "372d142d-7e1c-437c-b317-8e11f8fa9a8a",
   "metadata": {},
   "outputs": [
    {
     "data": {
      "text/html": [
       "<div>\n",
       "<style scoped>\n",
       "    .dataframe tbody tr th:only-of-type {\n",
       "        vertical-align: middle;\n",
       "    }\n",
       "\n",
       "    .dataframe tbody tr th {\n",
       "        vertical-align: top;\n",
       "    }\n",
       "\n",
       "    .dataframe thead th {\n",
       "        text-align: right;\n",
       "    }\n",
       "</style>\n",
       "<table border=\"1\" class=\"dataframe\">\n",
       "  <thead>\n",
       "    <tr style=\"text-align: right;\">\n",
       "      <th></th>\n",
       "      <th>Date</th>\n",
       "      <th>Value</th>\n",
       "      <th>Anomaly</th>\n",
       "    </tr>\n",
       "  </thead>\n",
       "  <tbody>\n",
       "    <tr>\n",
       "      <th>119</th>\n",
       "      <td>201401</td>\n",
       "      <td>35.5</td>\n",
       "      <td>-1.9</td>\n",
       "    </tr>\n",
       "    <tr>\n",
       "      <th>120</th>\n",
       "      <td>201501</td>\n",
       "      <td>36.1</td>\n",
       "      <td>-1.3</td>\n",
       "    </tr>\n",
       "    <tr>\n",
       "      <th>121</th>\n",
       "      <td>201601</td>\n",
       "      <td>40.8</td>\n",
       "      <td>3.4</td>\n",
       "    </tr>\n",
       "    <tr>\n",
       "      <th>122</th>\n",
       "      <td>201701</td>\n",
       "      <td>42.8</td>\n",
       "      <td>5.4</td>\n",
       "    </tr>\n",
       "    <tr>\n",
       "      <th>123</th>\n",
       "      <td>201801</td>\n",
       "      <td>38.7</td>\n",
       "      <td>1.3</td>\n",
       "    </tr>\n",
       "  </tbody>\n",
       "</table>\n",
       "</div>"
      ],
      "text/plain": [
       "       Date  Value  Anomaly\n",
       "119  201401   35.5     -1.9\n",
       "120  201501   36.1     -1.3\n",
       "121  201601   40.8      3.4\n",
       "122  201701   42.8      5.4\n",
       "123  201801   38.7      1.3"
      ]
     },
     "execution_count": 8,
     "metadata": {},
     "output_type": "execute_result"
    }
   ],
   "source": [
    "nyc.tail()"
   ]
  },
  {
   "cell_type": "markdown",
   "id": "dcb3f99e-1f18-4f0a-9c77-0964cbc92b27",
   "metadata": {},
   "source": [
    "### Data Cleaning"
   ]
  },
  {
   "cell_type": "code",
   "execution_count": 9,
   "id": "83a46a9d-d9e9-4baf-98e2-1141ab82790d",
   "metadata": {},
   "outputs": [],
   "source": [
    "# Rename Value column to Temperature\n",
    "nyc.columns = ['Date', 'Temperature', 'Anomaly']"
   ]
  },
  {
   "cell_type": "code",
   "execution_count": 10,
   "id": "090ab55d-4e9c-4fa3-8c64-dbd5ea74c560",
   "metadata": {},
   "outputs": [
    {
     "data": {
      "text/html": [
       "<div>\n",
       "<style scoped>\n",
       "    .dataframe tbody tr th:only-of-type {\n",
       "        vertical-align: middle;\n",
       "    }\n",
       "\n",
       "    .dataframe tbody tr th {\n",
       "        vertical-align: top;\n",
       "    }\n",
       "\n",
       "    .dataframe thead th {\n",
       "        text-align: right;\n",
       "    }\n",
       "</style>\n",
       "<table border=\"1\" class=\"dataframe\">\n",
       "  <thead>\n",
       "    <tr style=\"text-align: right;\">\n",
       "      <th></th>\n",
       "      <th>Date</th>\n",
       "      <th>Temperature</th>\n",
       "      <th>Anomaly</th>\n",
       "    </tr>\n",
       "  </thead>\n",
       "  <tbody>\n",
       "    <tr>\n",
       "      <th>0</th>\n",
       "      <td>189501</td>\n",
       "      <td>34.2</td>\n",
       "      <td>-3.2</td>\n",
       "    </tr>\n",
       "    <tr>\n",
       "      <th>1</th>\n",
       "      <td>189601</td>\n",
       "      <td>34.7</td>\n",
       "      <td>-2.7</td>\n",
       "    </tr>\n",
       "    <tr>\n",
       "      <th>2</th>\n",
       "      <td>189701</td>\n",
       "      <td>35.5</td>\n",
       "      <td>-1.9</td>\n",
       "    </tr>\n",
       "  </tbody>\n",
       "</table>\n",
       "</div>"
      ],
      "text/plain": [
       "     Date  Temperature  Anomaly\n",
       "0  189501         34.2     -3.2\n",
       "1  189601         34.7     -2.7\n",
       "2  189701         35.5     -1.9"
      ]
     },
     "execution_count": 10,
     "metadata": {},
     "output_type": "execute_result"
    }
   ],
   "source": [
    "# View data with new column names\n",
    "nyc.head(3)"
   ]
  },
  {
   "cell_type": "code",
   "execution_count": 11,
   "id": "bb5d954b-693a-4d24-9f33-7e61ad660f5a",
   "metadata": {},
   "outputs": [
    {
     "data": {
      "text/plain": [
       "dtype('int64')"
      ]
     },
     "execution_count": 11,
     "metadata": {},
     "output_type": "execute_result"
    }
   ],
   "source": [
    "# Check Date column type\n",
    "nyc.Date.dtype"
   ]
  },
  {
   "cell_type": "code",
   "execution_count": 12,
   "id": "2672272d-46cf-41f5-92b5-c7298c3bb044",
   "metadata": {},
   "outputs": [
    {
     "data": {
      "text/html": [
       "<div>\n",
       "<style scoped>\n",
       "    .dataframe tbody tr th:only-of-type {\n",
       "        vertical-align: middle;\n",
       "    }\n",
       "\n",
       "    .dataframe tbody tr th {\n",
       "        vertical-align: top;\n",
       "    }\n",
       "\n",
       "    .dataframe thead th {\n",
       "        text-align: right;\n",
       "    }\n",
       "</style>\n",
       "<table border=\"1\" class=\"dataframe\">\n",
       "  <thead>\n",
       "    <tr style=\"text-align: right;\">\n",
       "      <th></th>\n",
       "      <th>Date</th>\n",
       "      <th>Temperature</th>\n",
       "      <th>Anomaly</th>\n",
       "    </tr>\n",
       "  </thead>\n",
       "  <tbody>\n",
       "    <tr>\n",
       "      <th>0</th>\n",
       "      <td>1895</td>\n",
       "      <td>34.2</td>\n",
       "      <td>-3.2</td>\n",
       "    </tr>\n",
       "    <tr>\n",
       "      <th>1</th>\n",
       "      <td>1896</td>\n",
       "      <td>34.7</td>\n",
       "      <td>-2.7</td>\n",
       "    </tr>\n",
       "    <tr>\n",
       "      <th>2</th>\n",
       "      <td>1897</td>\n",
       "      <td>35.5</td>\n",
       "      <td>-1.9</td>\n",
       "    </tr>\n",
       "  </tbody>\n",
       "</table>\n",
       "</div>"
      ],
      "text/plain": [
       "   Date  Temperature  Anomaly\n",
       "0  1895         34.2     -3.2\n",
       "1  1896         34.7     -2.7\n",
       "2  1897         35.5     -1.9"
      ]
     },
     "execution_count": 12,
     "metadata": {},
     "output_type": "execute_result"
    }
   ],
   "source": [
    "# Remove last 2 digits from Date values to leave just the year\n",
    "nyc.Date = nyc.Date.floordiv(100)\n",
    "nyc.head(3)"
   ]
  },
  {
   "cell_type": "markdown",
   "id": "192677cf-0a05-4df4-8cf5-2ab3b06609f9",
   "metadata": {},
   "source": [
    "### Describe Data"
   ]
  },
  {
   "cell_type": "code",
   "execution_count": 13,
   "id": "2c1ca1eb-bc9d-4452-b341-9c269b96c8e6",
   "metadata": {},
   "outputs": [
    {
     "data": {
      "text/plain": [
       "count    124.00\n",
       "mean      37.60\n",
       "std        4.54\n",
       "min       26.10\n",
       "25%       34.58\n",
       "50%       37.60\n",
       "75%       40.60\n",
       "max       47.60\n",
       "Name: Temperature, dtype: float64"
      ]
     },
     "execution_count": 13,
     "metadata": {},
     "output_type": "execute_result"
    }
   ],
   "source": [
    "# Get descriptive statistics for Temperature column\n",
    "pd.set_option('display.precision', 2)\n",
    "nyc.Temperature.describe()"
   ]
  },
  {
   "cell_type": "markdown",
   "id": "482fcb22-b3f2-473d-b446-1a02eb5f3811",
   "metadata": {},
   "source": [
    "The data appears to be very evenly distributed. The mean and median are equal, and the first and third quartiles are nearly equally distant from the mean and median."
   ]
  },
  {
   "cell_type": "markdown",
   "id": "62ab020b-4bfd-4e85-9f83-75076b9fd456",
   "metadata": {},
   "source": [
    "## Linear Regression"
   ]
  },
  {
   "cell_type": "code",
   "execution_count": 14,
   "id": "6427ff9d-e36e-442d-ad5f-0323900e10a7",
   "metadata": {},
   "outputs": [],
   "source": [
    "# Import statistics module\n",
    "from scipy import stats"
   ]
  },
  {
   "cell_type": "code",
   "execution_count": 15,
   "id": "25f93b9b-3d2d-4640-9519-bd6dd157e8d0",
   "metadata": {},
   "outputs": [],
   "source": [
    "# Use linregress() to calculate the slope and intercept for the temperature data\n",
    "linear_regression = stats.linregress(x = nyc.Date, y = nyc.Temperature)"
   ]
  },
  {
   "cell_type": "code",
   "execution_count": 16,
   "id": "1ea9e1c5-56e5-4c3a-9816-41e60c2b3be9",
   "metadata": {},
   "outputs": [
    {
     "data": {
      "text/plain": [
       "0.014771361132966163"
      ]
     },
     "execution_count": 16,
     "metadata": {},
     "output_type": "execute_result"
    }
   ],
   "source": [
    "# Get slope\n",
    "slope = linear_regression.slope\n",
    "slope"
   ]
  },
  {
   "cell_type": "code",
   "execution_count": 17,
   "id": "56370974-9e8f-47ff-9833-c4797782c1b4",
   "metadata": {},
   "outputs": [
    {
     "data": {
      "text/plain": [
       "8.694993233674289"
      ]
     },
     "execution_count": 17,
     "metadata": {},
     "output_type": "execute_result"
    }
   ],
   "source": [
    "# Get intercept\n",
    "intercept = linear_regression.intercept\n",
    "intercept"
   ]
  },
  {
   "cell_type": "markdown",
   "id": "320f7a06-d54f-42ca-b4e2-ea86e2d0e01f",
   "metadata": {},
   "source": [
    "### Predict New Values"
   ]
  },
  {
   "cell_type": "code",
   "execution_count": 18,
   "id": "ce4befef-a356-4a06-8882-e952274e713e",
   "metadata": {},
   "outputs": [
    {
     "data": {
      "text/plain": [
       "38.51837136113297"
      ]
     },
     "execution_count": 18,
     "metadata": {},
     "output_type": "execute_result"
    }
   ],
   "source": [
    "# Predict average Fahrenheit temp for January 2019\n",
    "slope * 2019 + intercept"
   ]
  },
  {
   "cell_type": "code",
   "execution_count": 19,
   "id": "77e218dd-08ad-4886-bf36-afda383b5098",
   "metadata": {},
   "outputs": [
    {
     "data": {
      "text/plain": [
       "36.612865774980335"
      ]
     },
     "execution_count": 19,
     "metadata": {},
     "output_type": "execute_result"
    }
   ],
   "source": [
    "# Predict average Fahrenheit temp for January 1890\n",
    "slope * 1890 + intercept"
   ]
  },
  {
   "cell_type": "code",
   "execution_count": 20,
   "id": "351fc518-d8b0-4802-8551-29690b62df15",
   "metadata": {},
   "outputs": [
    {
     "data": {
      "text/plain": [
       "38.62177088906374"
      ]
     },
     "execution_count": 20,
     "metadata": {},
     "output_type": "execute_result"
    }
   ],
   "source": [
    "# Predict average Fahrenheit temp for January 2026\n",
    "slope * 2026 + intercept"
   ]
  },
  {
   "cell_type": "markdown",
   "id": "5c4d306f-60fe-456c-91e3-96a2316baa04",
   "metadata": {},
   "source": [
    "### Seaborn Scatter Plot"
   ]
  },
  {
   "cell_type": "code",
   "execution_count": 21,
   "id": "7f6a2d55-9b27-4920-8d3c-a01dbe3817b1",
   "metadata": {},
   "outputs": [],
   "source": [
    "# import seaborn\n",
    "import seaborn as sns"
   ]
  },
  {
   "cell_type": "code",
   "execution_count": 22,
   "id": "fcfb9165-2124-4a8e-8de9-bbe41ca614e1",
   "metadata": {},
   "outputs": [
    {
     "data": {
      "text/plain": [
       "(10.0, 70.0)"
      ]
     },
     "execution_count": 22,
     "metadata": {},
     "output_type": "execute_result"
    },
    {
     "data": {
      "image/png": "[encoded data removed]",
      "text/plain": [
       "<Figure size 432x288 with 1 Axes>"
      ]
     },
     "metadata": {},
     "output_type": "display_data"
    }
   ],
   "source": [
    "# Create scatter plot with best fit line for the temperature and date\n",
    "sns.set_style('whitegrid')\n",
    "axes = sns.regplot(x = nyc.Date, y = nyc.Temperature)\n",
    "axes.set_ylim(10, 70)"
   ]
  },
  {
   "cell_type": "markdown",
   "id": "9b0d8641-1ca3-4e01-81c3-079d6024ac07",
   "metadata": {},
   "source": [
    "## Simple Linear Regression with Scikit-Learn"
   ]
  },
  {
   "cell_type": "code",
   "execution_count": 23,
   "id": "f37b08f7-3662-4543-9e09-7f9778661a2a",
   "metadata": {},
   "outputs": [],
   "source": [
    "# Import train test split\n",
    "from sklearn.model_selection import train_test_split"
   ]
  },
  {
   "cell_type": "code",
   "execution_count": 24,
   "id": "70010a37-0735-4aa5-a2a5-0665de32f7e6",
   "metadata": {},
   "outputs": [],
   "source": [
    "# Split data into train and test sets\n",
    "X_train, X_test, y_train, y_test = train_test_split(nyc.Date.values.reshape(-1, 1), nyc.Temperature.values, random_state = 11)"
   ]
  },
  {
   "cell_type": "code",
   "execution_count": 25,
   "id": "e8226d94-eb52-4126-804c-ad5f709aa177",
   "metadata": {},
   "outputs": [
    {
     "data": {
      "text/plain": [
       "(93, 1)"
      ]
     },
     "execution_count": 25,
     "metadata": {},
     "output_type": "execute_result"
    }
   ],
   "source": [
    "# Confirm that 75% of the data is in the train set\n",
    "X_train.shape"
   ]
  },
  {
   "cell_type": "code",
   "execution_count": 26,
   "id": "a49a59ac-6192-4bb3-9432-001538c37271",
   "metadata": {},
   "outputs": [
    {
     "data": {
      "text/plain": [
       "(31, 1)"
      ]
     },
     "execution_count": 26,
     "metadata": {},
     "output_type": "execute_result"
    }
   ],
   "source": [
    "# Confirm that 25% of the data is in the test set\n",
    "X_test.shape"
   ]
  },
  {
   "cell_type": "markdown",
   "id": "25e0ab21-0a39-46f6-889c-7ea1fdf36802",
   "metadata": {},
   "source": [
    "### Train the Model"
   ]
  },
  {
   "cell_type": "code",
   "execution_count": 27,
   "id": "78d5cc22-05e7-4ca3-a5b5-e769c9aa31e9",
   "metadata": {},
   "outputs": [],
   "source": [
    "# Import LinearRegression function\n",
    "from sklearn.linear_model import LinearRegression"
   ]
  },
  {
   "cell_type": "code",
   "execution_count": 28,
   "id": "240e6e34-8baf-4c17-8efd-12eff7fae87e",
   "metadata": {},
   "outputs": [],
   "source": [
    "# Create estimator\n",
    "linear_regression2 = LinearRegression()"
   ]
  },
  {
   "cell_type": "code",
   "execution_count": 29,
   "id": "599e168c-9bec-49ef-a769-060f26839e63",
   "metadata": {},
   "outputs": [
    {
     "data": {
      "text/plain": [
       "LinearRegression()"
      ]
     },
     "execution_count": 29,
     "metadata": {},
     "output_type": "execute_result"
    }
   ],
   "source": [
    "# Fit model\n",
    "linear_regression2.fit(X = X_train, y = y_train)"
   ]
  },
  {
   "cell_type": "code",
   "execution_count": 30,
   "id": "f2cb46ff-c7b1-4fce-9860-58af1e09e679",
   "metadata": {},
   "outputs": [
    {
     "data": {
      "text/plain": [
       "array([0.01939167])"
      ]
     },
     "execution_count": 30,
     "metadata": {},
     "output_type": "execute_result"
    }
   ],
   "source": [
    "# Get model slope\n",
    "slope2 = linear_regression2.coef_\n",
    "slope2"
   ]
  },
  {
   "cell_type": "code",
   "execution_count": 31,
   "id": "c7b825a5-7cea-44b8-a883-1ddcd143a28e",
   "metadata": {},
   "outputs": [
    {
     "data": {
      "text/plain": [
       "-0.30779820252658396"
      ]
     },
     "execution_count": 31,
     "metadata": {},
     "output_type": "execute_result"
    }
   ],
   "source": [
    "# Get model intercept\n",
    "intercept2 = linear_regression2.intercept_\n",
    "intercept2"
   ]
  },
  {
   "cell_type": "markdown",
   "id": "4610876f-5f7a-4c15-88f8-5a7cea9c5bca",
   "metadata": {},
   "source": [
    "### Test the Model"
   ]
  },
  {
   "cell_type": "code",
   "execution_count": 32,
   "id": "b2e32635-a487-4139-a2d8-27e19a9071ad",
   "metadata": {},
   "outputs": [],
   "source": [
    "# Predict values for test data\n",
    "predicted = linear_regression2.predict(X_test)"
   ]
  },
  {
   "cell_type": "code",
   "execution_count": 33,
   "id": "9243c5bc-7645-424c-978f-dadf0e49b031",
   "metadata": {},
   "outputs": [],
   "source": [
    "# Save y_test data as expected\n",
    "expected = y_test"
   ]
  },
  {
   "cell_type": "code",
   "execution_count": 34,
   "id": "ccd66d1b-4d3c-4a2c-96b3-677bdf1fb4d9",
   "metadata": {},
   "outputs": [
    {
     "name": "stdout",
     "output_type": "stream",
     "text": [
      "predicted:  37.86, expected:  31.70\n",
      "predicted:  38.69, expected:  34.80\n",
      "predicted:  37.00, expected:  39.40\n",
      "predicted:  37.25, expected:  45.70\n",
      "predicted:  38.05, expected:  32.30\n",
      "predicted:  37.64, expected:  33.80\n",
      "predicted:  36.94, expected:  39.70\n"
     ]
    }
   ],
   "source": [
    "# Display the predicted and expected values for every fifth element in the data\n",
    "for p, e in zip(predicted[::5], expected[::5]):\n",
    "    print(f'predicted: {p: .2f}, expected: {e: .2f}')"
   ]
  },
  {
   "cell_type": "markdown",
   "id": "30816173-e51c-47a7-adbb-471895a98ec1",
   "metadata": {},
   "source": [
    "### Predicting New Values"
   ]
  },
  {
   "cell_type": "code",
   "execution_count": 35,
   "id": "1d51d2ca-2997-4056-baa4-a0ca3e8bbd16",
   "metadata": {},
   "outputs": [
    {
     "data": {
      "text/plain": [
       "array([38.84399018])"
      ]
     },
     "execution_count": 35,
     "metadata": {},
     "output_type": "execute_result"
    }
   ],
   "source": [
    "# Use coefficient and slope of model to predict the average January temperature for 2019\n",
    "predict = (lambda x: slope2 * x + intercept2)\n",
    "predict(2019)"
   ]
  },
  {
   "cell_type": "code",
   "execution_count": 36,
   "id": "ba974a96-7a5a-4f43-b455-0f005c34604c",
   "metadata": {},
   "outputs": [
    {
     "data": {
      "text/plain": [
       "array([36.34246432])"
      ]
     },
     "execution_count": 36,
     "metadata": {},
     "output_type": "execute_result"
    }
   ],
   "source": [
    "# Predict average January temperature for 1890\n",
    "predict(1890)"
   ]
  },
  {
   "cell_type": "markdown",
   "id": "34542e09-9b5f-416c-8d27-6ab800be4887",
   "metadata": {},
   "source": [
    "### Plotting With Regression Line"
   ]
  },
  {
   "cell_type": "code",
   "execution_count": 37,
   "id": "9d472f7e-cb83-457c-8b3d-2078d4e955d8",
   "metadata": {},
   "outputs": [
    {
     "data": {
      "image/png": "[encoded data removed]",
      "text/plain": [
       "<Figure size 432x288 with 1 Axes>"
      ]
     },
     "metadata": {},
     "output_type": "display_data"
    }
   ],
   "source": [
    "# Create a scatterplot of the temperatures vs the dates\n",
    "axes2 = sns.scatterplot(data = nyc, x = 'Date', y = 'Temperature', hue = 'Temperature', palette = 'winter', legend = False)\n",
    "axes2.set_ylim(10, 70)\n",
    "\n",
    "# Add regression line\n",
    "import numpy as np\n",
    "\n",
    "# Create array containing minimum and maximum values of the dates\n",
    "x = np.array([min(nyc.Date.values), max(nyc.Date.values)])\n",
    "\n",
    "# Predict values for x array\n",
    "y = predict(x)\n",
    "\n",
    "# Import matplotlib\n",
    "import matplotlib.pyplot as plt\n",
    "\n",
    "# Plot best fit line\n",
    "line = plt.plot(x, y)"
   ]
  },
  {
   "cell_type": "markdown",
   "id": "94f5aa15-5cba-404b-bf05-fc7be078a376",
   "metadata": {},
   "source": [
    "## Method Comparison"
   ]
  },
  {
   "cell_type": "markdown",
   "id": "3c193caa-4f26-49eb-8bdf-6cb2a2efae75",
   "metadata": {},
   "source": [
    "Both methods provide similar results for a simple linear regression. Stats.lingregress() is a bit simpler, and it only takes 2 inputs, so it's really only suitable for simple linear regressions. It also takes a bit more code to predict new values, since you need to use the full y = mx + b equation instead of using .predict() like with the sklearn method, but that could easily be done with a function or a for loop. The sklearn method supports multiple linear regressions, making it more suited to machine learning applications. \n",
    "\n",
    "The sns.regplot function includes the best fit line of the data with no additional code, while the sns.scatterplot method does not. However, scatterplot can accept the \"hue\" keyword to color the points based on a given variable, so choosing between the two depends on the desired application."
   ]
  }
 ],
 "metadata": {
  "kernelspec": {
   "display_name": "Python 3 (ipykernel)",
   "language": "python",
   "name": "python3"
  },
  "language_info": {
   "codemirror_mode": {
    "name": "ipython",
    "version": 3
   },
   "file_extension": ".py",
   "mimetype": "text/x-python",
   "name": "python",
   "nbconvert_exporter": "python",
   "pygments_lexer": "ipython3",
   "version": "3.9.12"
  }
 },
 "nbformat": 4,
 "nbformat_minor": 5
}
